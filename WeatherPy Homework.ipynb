{
 "cells": [
  {
   "cell_type": "markdown",
   "metadata": {},
   "source": [
    "# WeatherPy\n",
    "----\n",
    "\n",
    "#### Note\n",
    "* Instructions have been included for each segment. You do not have to follow them exactly, but they are included to help you think through the steps."
   ]
  },
  {
   "cell_type": "code",
   "execution_count": 1,
   "metadata": {
    "scrolled": true
   },
   "outputs": [],
   "source": [
    "# Dependencies and Setup\n",
    "import matplotlib.pyplot as plt\n",
    "import pandas as pd\n",
    "import numpy as np\n",
    "import requests\n",
    "import time\n",
    "from scipy.stats import linregress\n",
    "\n",
    "# Import API key\n",
    "from api_keys import weather_api_key\n",
    "\n",
    "# Incorporated citipy to determine city based on latitude and longitude\n",
    "from citipy import citipy\n",
    "\n",
    "# Output File (CSV)\n",
    "output_data_file = \"output_data/cities.csv\"\n",
    "\n",
    "# Range of latitudes and longitudes\n",
    "lat_range = (-90, 90)\n",
    "lng_range = (-180, 180)"
   ]
  },
  {
   "cell_type": "markdown",
   "metadata": {},
   "source": [
    "## Generate Cities List"
   ]
  },
  {
   "cell_type": "code",
   "execution_count": 2,
   "metadata": {},
   "outputs": [
    {
     "name": "stdout",
     "output_type": "stream",
     "text": [
      "['busselton', 'mount isa', 'georgetown', 'santa comba', 'pevek', 'port elizabeth', 'cape town', 'zhangye', 'rikitea', 'punta arenas', 'jalu', 'govardhan', 'acajutla', 'avarua', 'banda aceh', 'atuona', 'dikson', 'ushuaia', 'jamestown', 'houma', 'mataura', 'balad', 'qaanaaq', 'tiksi', 'sisophon', 'ixtapa', 'taolanaro', 'ribeira grande', 'east london', 'kirakira', 'illoqqortoormiut', 'amapa', 'alyangula', 'port blair', 'toliary', 'dandong', 'yellowknife', 'chapais', 'port alfred', 'bluff', 'okhotsk', 'arraial do cabo', 'conneaut', 'flinders', 'pisco', 'puerto ayora', 'belyy yar', 'umm lajj', 'anadyr', 'cherskiy', 'kodiak', 'szczecin', 'tasiilaq', 'bredasdorp', 'kruisfontein', 'maniitsoq', 'new norfolk', 'mrirt', 'tessalit', 'victoria', 'saskylakh', 'kampong thum', 'wajid', 'ambilobe', 'bethel', 'meulaboh', 'kharan', 'babai', 'parras', 'grand gaube', 'hobart', 'forestville', 'half moon bay', 'benguela', 'chokurdakh', 'takoradi', 'miles city', 'severo-kurilsk', 'paamiut', 'bontang', 'reconquista', 'lompoc', 'makaha', 'egvekinot', 'bengkulu', 'asfi', 'manadhoo', 'albany', 'mount gambier', 'sentyabrskiy', 'panjab', 'mayumba', 'quzhou', 'hambantota', 'gubkinskiy', 'lyuban', 'dawlatabad', 'nizhniy odes', 'belushya guba', 'hilo', 'mamontovo', 'wau', 'klaksvik', 'san quintin', 'acapulco', 'lazaro cardenas', 'taburi', 'macau', 'goderich', 'san patricio', 'nikolskoye', 'mar del plata', 'tazovskiy', 'mahebourg', 'goroka', 'kulhudhuffushi', 'vaini', 'hermanus', 'samusu', 'butaritari', 'grindavik', 'skhisma', 'piacabucu', 'fruitvale', 'ornskoldsvik', 'praia da vitoria', 'bambanglipuro', 'honiara', 'key west', 'deggendorf', 'marcona', 'alice springs', 'binzhou', 'chynov', 'kapaa', 'iqaluit', 'lamu', 'trat', 'sinnamary', 'amderma', 'hami', 'mentok', 'roma', 'samarai', 'castro', 'cockburn town', 'mys shmidta', 'tromso', 'honningsvag', 'shumskiy', 'nelson bay', 'fort nelson', 'bambous virieux', 'sibolga', 'barrow', 'srednekolymsk', 'asyut', 'vaitupu', 'soyo', 'tumannyy', 'teya', 'namibe', 'la ronge', 'los llanos de aridane', 'lolua', 'kununurra', 'kaeo', 'barentsburg', 'marawi', 'labuan', 'broken hill', 'narsaq', 'ozinki', 'benalla', 'sur', 'huarmey', 'high level', 'cabo san lucas', 'tuy hoa', 'clyde river', 'faanui', 'joshimath', 'honolulu', 'da nang', 'lebu', 'kremze', 'khonuu', 'katsuura', 'sorland', 'jiaozuo', 'mikhaylovka', 'port said', 'san cristobal', 'osorno', 'asau', 'alugan', 'karratha', 'san carlos de bariloche', 'jalacingo', 'manokwari', 'luderitz', 'eskasem', 'constitucion', 'upala', 'souillac', 'turinsk', 'urengoy', 'kralendijk', 'grand river south east', 'vetlanda', 'nantucket', 'attawapiskat', 'bandarbeyla', 'quetzaltepec', 'saint-augustin', 'nome', 'zalalovo', 'ponta do sol', 'maarianhamina', 'ginir', 'halalo', 'naze', 'vao', 'khao wong', 'roald', 'vukovar', 'charters towers', 'oppdal', 'husavik', 'jacareacanga', 'vila do maio', 'berlevag', 'kartaly', 'nemuro', 'san jose', 'potgietersrus', 'saint-philippe', 'esperance', 'sao filipe', 'port lincoln', 'madawaska', 'tuktoyaktuk', 'camocim', 'tabiauea', 'chota', 'ashqelon', 'haifa', 'tottori', 'port augusta', 'necochea', 'longyearbyen', 'traiguen', 'te anau', 'gympie', 'kolyvan', 'tabialan', 'bulawayo', 'amberley', 'tabou', 'kodinsk', 'taylorville', 'belaya gora', 'vilcun', 'provideniya', 'codajas', 'lagoa', 'williams lake', 'nizhneyansk', 'poso', 'fortuna', 'upernavik', 'saint-joseph', 'quatre cocos', 'herat', 'grand-santi', 'wanning', 'margate', 'carnarvon', 'guerrero negro', 'touros', 'mbaiki', 'tagusao', 'rundu', 'manacapuru', 'horta', 'yulara', 'the valley', 'saint george', 'ucar', 'hurricane', 'palabuhanratu', 'vanavara', 'ust-ilimsk', 'zelenoborskiy', 'cabedelo', 'andros', 'braslav', 'taltal', 'handan', 'buaran', 'olafsvik', 'atar', 'andarab', 'beihai', 'rio grande', 'port hardy', 'arica', 'colchester', 'manakara', 'ahipara', 'vila franca do campo', 'flin flon', 'dafeng', 'hasaki', 'norway', 'tecoanapa', 'naftah', 'ulaangom', 'dera ghazi khan', 'rafai', 'siguiri', 'vardo', 'les cayes', 'areosa', 'enid', 'louisbourg', 'masty', 'totness', 'qasigiannguit', 'muzquiz', 'geraldton', 'cidreira', 'korla', 'ancud', 'nevelsk', 'dubai', 'mercedes', 'csurgo', 'banjar', 'urdzhar', 'golfito', 'bestobe', 'poum', 'tura', 'lavrentiya', 'pochutla', 'vila velha', 'evensk', 'southbridge', 'nalut', 'rawson', 'suba', 'diphu', 'hofn', 'polunochnoye', 'paramonga', 'saint-ambroise', 'tulun', 'talnakh', 'lorengau', 'presidencia roque saenz pena', 'portland', 'verkhnyaya inta', 'russell', 'awjilah', 'aklavik', 'galiwinku', 'tsihombe', 'norman wells', 'asosa', 'sao jose da coroa grande', 'valea ciorii', 'bose', 'pucara', 'saltpond', 'baruun-urt', 'khorixas', 'nchelenge', 'lensk', 'peniche', 'hithadhoo', 'suntar', 'conakry', 'thompson', 'miragoane', 'sidi ali', 'shanhetun', 'airai', 'isangel', 'bumba', 'mount pleasant', 'chiang khong', 'bacungan', 'camopi', 'oranjemund', 'temple', 'yar-sale', 'pavlodar', 'surt', 'maloy', 'motygino', 'aksha', 'road town', 'itarema', 'moerai', 'yzeure', 'cantagalo', 'khatanga', 'hobro', 'aksarka', 'port hedland', 'setermoen', 'rehoboth', 'bathsheba', 'oskemen', 'manoel urbano', 'tual', 'kachikau', 'chipinge', 'ipameri', 'komsomolskiy', 'kahului', 'santa cecilia', 'aswan', 'chuy', 'college', 'sembakung', 'alihe', 'ternate', 'areado', 'preston', 'leningradskiy', 'sao felix do xingu', 'portobelo', 'broome', 'kichera', 'demyansk', 'jinchang', 'harper', 'yanaul', 'gizo', 'northam', 'synya', 'sharya', 'noumea', 'lar', 'torbay', 'ngukurr', 'samalaeulu', 'ndele', 'ilhabela', 'oranjestad', 'overijse', 'valdemarpils', 'colares', 'safaga', 'sandwick', 'buraydah', 'arlit', 'soe', 'koster', 'abu samrah', 'san ramon', 'kaka', 'pangody', 'inhambane', 'saint-georges', 'belomorsk', 'verkhnevilyuysk', 'singapore', 'ginda', 'beaverlodge', 'tir pol', 'viedma', 'atambua', 'pontes e lacerda', 'bonavista', 'orsha', 'alta floresta', 'mouzouras', 'kadykchan', 'kaitangata', 'inderborskiy', 'tidore', 'tomatlan', 'tuggurt', 'lowestoft', 'bolgatanga', 'murray bridge', 'palmer', 'mehamn', 'armacao dos buzios', 'sao sepe', 'port-cartier', 'yuanli', 'vylgort', 'maragogi', 'golden', 'saleaula', 'sarangani', 'koungou', 'yeppoon', 'vestmannaeyjar', 'ketchikan', 'ilulissat', 'the pas', 'kavaratti', 'durango', 'umtata', 'lima', 'humaita', 'calatayud', 'ambovombe', 'trelew', 'tuatapere', 'aykhal', 'bireun', 'astoria', 'luganville', 'atmakur', 'mirabad', 'mayya', 'coquimbo', 'eureka', 'havre-saint-pierre', 'tinogboc', 'oxapampa', 'muravlenko', 'taoudenni', 'hamilton', 'kovdor', 'boa vista', 'tumbes', 'faya', 'gigmoto', 'tiznit', 'ambon', 'teacapan', 'nynashamn', 'aras', 'bojnurd', 'healesville', 'jujuy', 'dunedin', 'maymyo', 'kamaishi', 'balabac', 'lumberton', 'kavieng', 'upington', 'ningyang', 'weligama', 'axim', 'nouadhibou', 'rudbar', 'creston', 'mattru', 'narrabri', 'nanortalik', 'kaniama', 'paracuru', 'maraa', 'siniscola', 'nabire', 'gushikawa', 'coihaique', 'kudahuvadhoo', 'bargal', 'novoseleznevo', 'umm kaddadah', 'sao joao batista', 'zhigansk', 'safranbolu', 'mitsamiouli', 'hobyo', 'mathathane', 'meyungs', 'rehau', 'manggar', 'ostrovnoy', 'litovko', 'semporna', 'geilo', 'kualakapuas', 'pangnirtung', 'kyren', 'bac lieu', 'walvis bay', 'vostok', 'kungurtug', 'wagar', 'bryant', 'tsabong', 'santa rita', 'galesong', 'muli', 'azle', 'muddebihal', 'wulanhaote', 'codrington', 'mankono', 'poplar bluff', 'nador', 'belmonte', 'petropavlovsk-kamchatskiy', 'skalistyy', 'tucuman', 'coahuayana', 'quelimane', 'deputatskiy', 'caravelas', 'yian', 'biltine', 'kpandu', 'trincomalee', 'manga', 'istra', 'bunia', 'derzhavinsk', 'westpunt', 'cap malheureux', 'portree', 'wasilla', 'muros', 'hualmay', 'anar darreh', 'boulder', 'kuusamo', 'barcelos', 'malinovskiy', 'rio gallegos', 'westport', 'rurrenabaque', 'naron', 'birao', 'kysyl-syr', 'abu kamal', 'wajir']\n"
     ]
    }
   ],
   "source": [
    "# List for holding lat_lngs and cities\n",
    "lat_lngs = []\n",
    "cities = []\n",
    "\n",
    "# Create a set of random lat and lng combinations\n",
    "lats = np.random.uniform(lat_range[0], lat_range[1], size=1500)\n",
    "lngs = np.random.uniform(lng_range[0], lng_range[1], size=1500)\n",
    "lat_lngs = zip(lats, lngs)\n",
    "\n",
    "# Identify nearest city for each lat, lng combination\n",
    "for lat_lng in lat_lngs:\n",
    "    city = citipy.nearest_city(lat_lng[0], lat_lng[1]).city_name\n",
    "    \n",
    "    # If the city is unique, then add it to a our cities list\n",
    "    if city not in cities:\n",
    "        cities.append(city)\n",
    "\n",
    "# Print the city count to confirm sufficient count\n",
    "len(cities)\n",
    "print(cities)"
   ]
  },
  {
   "cell_type": "markdown",
   "metadata": {},
   "source": [
    "### Perform API Calls\n",
    "* Perform a weather check on each city using a series of successive API calls.\n",
    "* Include a print log of each city as it'sbeing processed (with the city number and city name).\n"
   ]
  },
  {
   "cell_type": "code",
   "execution_count": 3,
   "metadata": {
    "scrolled": true
   },
   "outputs": [
    {
     "name": "stdout",
     "output_type": "stream",
     "text": [
      "2011706 Busselton\n",
      "9495 Mount Isa\n",
      "9429 George Town\n",
      "2019170 Santa Comba\n",
      "....what was i thinking pevek\n",
      "1973 Port Elizabeth\n",
      "1899 Cape Town\n",
      "....what was i thinking zhangye\n",
      "....what was i thinking rikitea\n",
      "8487 Punta Arenas\n",
      "....what was i thinking jalu\n",
      "....what was i thinking govardhan\n",
      "2016335 Acajutla\n",
      "7271 Avarua\n",
      "....what was i thinking banda aceh\n",
      "....what was i thinking atuona\n",
      "....what was i thinking dikson\n",
      "8303 Ushuaia\n",
      "4588 Jamestown\n",
      "4444 Houma\n",
      "2008959 Mataura\n",
      "....what was i thinking balad\n",
      "....what was i thinking qaanaaq\n",
      "....what was i thinking tiksi\n",
      "....what was i thinking sisophon\n",
      "7156 Ixtapa\n",
      "....what was i thinking taolanaro\n",
      "....what was i thinking ribeira grande\n",
      "1912 East London\n",
      "....what was i thinking kirakira\n",
      "....what was i thinking illoqqortoormiut\n",
      "....what was i thinking amapa\n",
      "9527 Alyangula\n",
      "....what was i thinking port blair\n",
      "....what was i thinking toliary\n",
      "....what was i thinking dandong\n",
      "1007 Yellowknife\n",
      "859 Chapais\n",
      "....what was i thinking port alfred\n",
      "2008959 Bluff\n",
      "....what was i thinking okhotsk\n",
      "....what was i thinking arraial do cabo\n",
      "4469 Conneaut\n",
      "20106 Flinders\n",
      "8691 Pisco\n",
      "2005652 Puerto Ayora\n",
      "8942 Belyy Yar\n",
      "....what was i thinking umm lajj\n",
      "8872 Anadyr\n",
      "....what was i thinking cherskiy\n",
      "7668 Saint Paul Harbor\n",
      "19799 Szczecin\n",
      "81 Tasiilaq\n",
      "1966 Bredasdorp\n",
      "2035063 Kruisfontein\n",
      "....what was i thinking maniitsoq\n",
      "2031307 New Norfolk\n",
      "....what was i thinking mrirt\n",
      "....what was i thinking tessalit\n",
      "2018291 Hong Kong\n",
      "....what was i thinking saskylakh\n",
      "....what was i thinking kampong thum\n",
      "....what was i thinking wajid\n",
      "....what was i thinking ambilobe\n",
      "3888 Bethel\n",
      "....what was i thinking meulaboh\n",
      "....what was i thinking kharan\n",
      "....what was i thinking babai\n",
      "....what was i thinking parras\n",
      "2002134 Grand Gaube\n",
      "9545 Hobart\n",
      "3787 Forestville\n",
      "4322 Half Moon Bay\n",
      "....what was i thinking benguela\n",
      "....what was i thinking chokurdakh\n",
      "....what was i thinking takoradi\n",
      "4930 Miles City\n",
      "....what was i thinking severo-kurilsk\n",
      "....what was i thinking paamiut\n",
      "....what was i thinking bontang\n",
      "....what was i thinking reconquista\n",
      "5873 Lompoc\n",
      "7868 Makaha\n",
      "....what was i thinking egvekinot\n",
      "....what was i thinking bengkulu\n",
      "....what was i thinking asfi\n",
      "....what was i thinking manadhoo\n",
      "19530 Albany\n",
      "9560 Mount Gambier\n",
      "....what was i thinking sentyabrskiy\n",
      "....what was i thinking panjab\n",
      "....what was i thinking mayumba\n",
      "....what was i thinking quzhou\n",
      "9124 Hambantota\n",
      "....what was i thinking gubkinskiy\n",
      "....what was i thinking lyuban\n",
      "....what was i thinking dawlatabad\n",
      "....what was i thinking nizhniy odes\n",
      "....what was i thinking belushya guba\n",
      "7881 Hilo\n",
      "....what was i thinking mamontovo\n",
      "....what was i thinking wau\n",
      "1596 Klaksvík\n",
      "....what was i thinking san quintin\n",
      "....what was i thinking acapulco\n",
      "....what was i thinking lazaro cardenas\n",
      "....what was i thinking taburi\n",
      "9204 Macao\n",
      "253 Goderich\n",
      "3705 San Patricio\n",
      "8926 Nikolskoye\n",
      "8305 Mar del Plata\n",
      "....what was i thinking tazovskiy\n",
      "2061 Mahébourg\n",
      "....what was i thinking goroka\n",
      "....what was i thinking kulhudhuffushi\n",
      "7285 Vaini\n",
      "2006131 Hermanus\n",
      "....what was i thinking samusu\n",
      "....what was i thinking butaritari\n",
      "90 Grindavik\n",
      "6616 Schisma Eloundas\n",
      "....what was i thinking piacabucu\n",
      "4219 Fruitvale\n",
      "1768 Örnsköldsvik\n",
      "6895 Praia da Vitória\n",
      "....what was i thinking bambanglipuro\n",
      "2 Honiara\n",
      "4033 Key West\n",
      "2003601 Deggendorf\n",
      "....what was i thinking marcona\n",
      "9483 Alice Springs\n",
      "2015990 Binzhou\n",
      "2030980 Chýnov\n",
      "7873 Kapaa\n",
      "797 Iqaluit\n",
      "5604 Lamu\n",
      "9245 Trat\n",
      "....what was i thinking sinnamary\n",
      "....what was i thinking amderma\n",
      "....what was i thinking hami\n",
      "....what was i thinking mentok\n",
      "5681 Rome\n",
      "....what was i thinking samarai\n",
      "....what was i thinking castro\n",
      "....what was i thinking cockburn town\n",
      "....what was i thinking mys shmidta\n",
      "1681 Tromsø\n",
      "1638 Honningsvåg\n",
      "....what was i thinking shumskiy\n",
      "9605 Nelson Bay\n",
      "986 Fort Nelson\n",
      "2061 Bambous Virieux\n",
      "....what was i thinking sibolga\n",
      "7649 Barrow\n",
      "....what was i thinking srednekolymsk\n",
      "2510 Assiut\n",
      "....what was i thinking vaitupu\n",
      "....what was i thinking soyo\n",
      "....what was i thinking tumannyy\n",
      "....what was i thinking teya\n",
      "....what was i thinking namibe\n",
      "696 La Ronge\n",
      "2377 Los Llanos de Aridane\n",
      "....what was i thinking lolua\n",
      "9587 Kununurra\n",
      "2012217 Kaeo\n",
      "....what was i thinking barentsburg\n",
      "2007154 Marawi\n",
      "9372 Labuan\n",
      "9491 Broken Hill\n",
      "47 Narsaq\n",
      "....what was i thinking ozinki\n",
      "9611 Benalla\n",
      "....what was i thinking sur\n",
      "....what was i thinking huarmey\n",
      "867 High Level\n",
      "7165 Cabo San Lucas\n",
      "....what was i thinking tuy hoa\n",
      "776 Clyde River\n",
      "....what was i thinking faanui\n",
      "....what was i thinking joshimath\n",
      "7878 Honolulu\n",
      "9306 Turan\n",
      "....what was i thinking lebu\n",
      "2032261 Křemže\n",
      "....what was i thinking khonuu\n",
      "8074 Katsuura\n",
      "....what was i thinking sorland\n",
      "....what was i thinking jiaozuo\n",
      "....what was i thinking mikhaylovka\n",
      "2522 Port Said\n",
      "....what was i thinking san cristobal\n",
      "8490 Osorno\n",
      "2033571 Asău\n",
      "....what was i thinking alugan\n",
      "....what was i thinking karratha\n",
      "8315 Bariloche\n",
      "....what was i thinking jalacingo\n",
      "....what was i thinking manokwari\n",
      "....what was i thinking luderitz\n",
      "....what was i thinking eskasem\n",
      "....what was i thinking constitucion\n",
      "7210 Upala\n",
      "2061 Souillac\n",
      "....what was i thinking turinsk\n",
      "....what was i thinking urengoy\n",
      "8794 Kralendijk\n",
      "....what was i thinking grand river south east\n",
      "1763 Vetlanda\n",
      "3218 Nantucket\n",
      "....what was i thinking attawapiskat\n",
      "....what was i thinking bandarbeyla\n",
      "....what was i thinking quetzaltepec\n",
      "....what was i thinking saint-augustin\n",
      "7770 Nome\n",
      "6674 Zalalövő\n",
      "6894 Ponta do Sol\n",
      "1347 Mariehamn\n",
      "....what was i thinking ginir\n",
      "....what was i thinking halalo\n",
      "8013 Naze\n",
      "....what was i thinking vao\n",
      "9285 Khao Wong\n",
      "1602 Roald\n",
      "6384 Vukovar\n",
      "....what was i thinking charters towers\n",
      "....what was i thinking oppdal\n",
      "83 Husavik\n",
      "....what was i thinking jacareacanga\n",
      "2462 Vila do Maio\n",
      "1633 Berlevåg\n",
      "....what was i thinking kartaly\n",
      "7976 Nemuro\n",
      "5845 San Jose\n",
      "....what was i thinking potgietersrus\n",
      "2127 Saint-Philippe\n",
      "9525 Esperance\n",
      "....what was i thinking sao filipe\n",
      "....what was i thinking port lincoln\n",
      "94 Madawaska\n",
      "942 Tuktoyaktuk\n",
      "....what was i thinking camocim\n",
      "....what was i thinking tabiauea\n",
      "....what was i thinking chota\n",
      "6845 Ashquelon\n",
      "....what was i thinking haifa\n",
      "8030 Tottori-shi\n",
      "9613 Port Augusta\n",
      "2010353 Necochea\n",
      "....what was i thinking longyearbyen\n",
      "....what was i thinking traiguen\n",
      "....what was i thinking te anau\n",
      "2012127 Gympie\n",
      "8958 Kolyvan'\n",
      "....what was i thinking tabialan\n",
      "....what was i thinking bulawayo\n",
      "4776 Amberley\n",
      "....what was i thinking tabou\n",
      "....what was i thinking kodinsk\n",
      "5998 Taylorville\n",
      "....what was i thinking belaya gora\n",
      "8527 Vilcún\n",
      "8875 Provideniya\n",
      "....what was i thinking codajas\n",
      "....what was i thinking lagoa\n",
      "970 Williams Lake\n",
      "....what was i thinking nizhneyansk\n",
      "....what was i thinking poso\n",
      "2008778 Fortuna\n",
      "....what was i thinking upernavik\n",
      "2127 Saint-Joseph\n",
      "2061 Quatre Cocos\n",
      "....what was i thinking herat\n",
      "....what was i thinking grand-santi\n",
      "....what was i thinking wanning\n",
      "2020742 Margate\n",
      "9505 Carnarvon\n",
      "....what was i thinking guerrero negro\n",
      "8452 Touros\n",
      "....what was i thinking mbaiki\n",
      "....what was i thinking tagusao\n",
      "....what was i thinking rundu\n",
      "8356 Manacapuru\n",
      "....what was i thinking horta\n",
      "9487 Yulara\n",
      "8801 The Valley\n",
      "5832 Saint George\n",
      "8845 Ucar\n",
      "3373 Hurricane\n",
      "....what was i thinking palabuhanratu\n",
      "....what was i thinking vanavara\n",
      "....what was i thinking ust-ilimsk\n",
      "2019504 Zelenoborskiy\n",
      "8391 Cabedelo\n",
      "2018630 Andros\n",
      "....what was i thinking braslav\n",
      "....what was i thinking taltal\n",
      "....what was i thinking handan\n",
      "....what was i thinking buaran\n",
      "....what was i thinking olafsvik\n",
      "....what was i thinking atar\n",
      "....what was i thinking andarab\n",
      "....what was i thinking beihai\n",
      "....what was i thinking rio grande\n",
      "1011 Port Hardy\n",
      "8476 Arica\n",
      "1490 Colchester\n",
      "....what was i thinking manakara\n",
      "....what was i thinking ahipara\n",
      "6899 Vila Franca do Campo\n",
      "....what was i thinking flin flon\n",
      "....what was i thinking dafeng\n",
      "7955 Hasaki\n",
      "4530 Norway\n",
      "....what was i thinking tecoanapa\n",
      "....what was i thinking naftah\n",
      "....what was i thinking ulaangom\n",
      "....what was i thinking dera ghazi khan\n",
      "....what was i thinking rafai\n",
      "....what was i thinking siguiri\n",
      "1682 Vardø\n",
      "....what was i thinking les cayes\n",
      "6900 Areosa\n",
      "6235 Enid\n",
      "....what was i thinking louisbourg\n",
      "8936 Masty\n",
      "....what was i thinking totness\n",
      "165 Qasigiannguit\n",
      "....what was i thinking muzquiz\n",
      "9522 Geraldton\n",
      "....what was i thinking cidreira\n",
      "....what was i thinking korla\n",
      "8512 Ancud\n"
     ]
    },
    {
     "name": "stdout",
     "output_type": "stream",
     "text": [
      "8889 Nevel'sk\n",
      "7537 Dubai\n",
      "2021774 Mercedes\n",
      "6674 Csurgó\n",
      "9333 Banjar\n",
      "....what was i thinking urdzhar\n",
      "....what was i thinking golfito\n",
      "....what was i thinking bestobe\n",
      "....what was i thinking poum\n",
      "....what was i thinking tura\n",
      "....what was i thinking lavrentiya\n",
      "7157 Pochutla\n",
      "8474 Vila Velha\n",
      "....what was i thinking evensk\n",
      "2033035 Southbridge\n",
      "....what was i thinking nalut\n",
      "....what was i thinking rawson\n",
      "....what was i thinking suba\n",
      "9125 Diphu\n",
      "....what was i thinking hofn\n",
      "....what was i thinking polunochnoye\n",
      "....what was i thinking paramonga\n",
      "327 Saint-Ambroise\n",
      "....what was i thinking tulun\n",
      "8951 Talnakh\n",
      "....what was i thinking lorengau\n",
      "....what was i thinking presidencia roque saenz pena\n",
      "5321 Portland\n",
      "....what was i thinking verkhnyaya inta\n",
      "3352 Russell\n",
      "....what was i thinking awjilah\n",
      "1029 Aklavik\n",
      "....what was i thinking galiwinku\n",
      "....what was i thinking tsihombe\n",
      "951 Norman Wells\n",
      "....what was i thinking asosa\n",
      "....what was i thinking sao jose da coroa grande\n",
      "2000330 Valea Ciorii\n",
      "2011343 Bose\n",
      "....what was i thinking pucara\n",
      "....what was i thinking saltpond\n",
      "....what was i thinking baruun-urt\n",
      "....what was i thinking khorixas\n",
      "....what was i thinking nchelenge\n",
      "....what was i thinking lensk\n",
      "2002825 Peniche\n",
      "....what was i thinking hithadhoo\n",
      "....what was i thinking suntar\n",
      "....what was i thinking conakry\n",
      "935 Thompson\n",
      "....what was i thinking miragoane\n",
      "....what was i thinking sidi ali\n",
      "....what was i thinking shanhetun\n",
      "....what was i thinking airai\n",
      "....what was i thinking isangel\n",
      "....what was i thinking bumba\n",
      "4761 Mt. Pleasant\n",
      "9256 Chiang Khong\n",
      "8186 Bacungan\n",
      "....what was i thinking camopi\n",
      "....what was i thinking oranjemund\n",
      "6060 Temple\n",
      "....what was i thinking yar-sale\n",
      "8832 Pavlodar\n",
      "....what was i thinking surt\n",
      "1616 Måløy\n",
      "....what was i thinking motygino\n",
      "....what was i thinking aksha\n",
      "2009307 Road Town\n",
      "....what was i thinking itarema\n",
      "....what was i thinking moerai\n",
      "6499 Yzeure\n",
      "....what was i thinking cantagalo\n",
      "....what was i thinking khatanga\n",
      "2011893 Hobro\n",
      "....what was i thinking aksarka\n",
      "9585 Port Hedland\n",
      "1619 Setermoen\n",
      "....what was i thinking rehoboth\n",
      "8772 Bathsheba\n",
      "8831 Oskemen\n",
      "....what was i thinking manoel urbano\n",
      "....what was i thinking tual\n",
      "....what was i thinking kachikau\n",
      "....what was i thinking chipinge\n",
      "....what was i thinking ipameri\n",
      "9014 Yangi Marg`ilon\n",
      "7879 Kahului\n",
      "....what was i thinking santa cecilia\n",
      "....what was i thinking aswan\n",
      "....what was i thinking chuy\n",
      "7683 College\n",
      "....what was i thinking sembakung\n",
      "....what was i thinking alihe\n",
      "....what was i thinking ternate\n",
      "....what was i thinking areado\n",
      "2019288 Preston\n",
      "....what was i thinking leningradskiy\n",
      "....what was i thinking sao felix do xingu\n",
      "2013151 Portobelo\n",
      "3429 Broome\n",
      "....what was i thinking kichera\n",
      "....what was i thinking demyansk\n",
      "....what was i thinking jinchang\n",
      "....what was i thinking harper\n",
      "....what was i thinking yanaul\n",
      "....what was i thinking gizo\n",
      "2005965 Northam\n",
      "....what was i thinking synya\n",
      "....what was i thinking sharya\n",
      "7344 Noumea\n",
      "....what was i thinking lar\n",
      "998 Torbay\n",
      "....what was i thinking ngukurr\n",
      "....what was i thinking samalaeulu\n",
      "....what was i thinking ndele\n",
      "....what was i thinking ilhabela\n",
      "8791 Oranjestad\n",
      "1227 Overijse\n",
      "1877 Valdemārpils\n",
      "2021330 Colares\n",
      "2513 Safaga\n",
      "1438 Sandwick\n",
      "7411 Buraidah\n",
      "....what was i thinking arlit\n",
      "....what was i thinking soe\n",
      "....what was i thinking koster\n",
      "....what was i thinking abu samrah\n",
      "4774 San Ramon\n",
      "....what was i thinking kaka\n",
      "....what was i thinking pangody\n",
      "2200 Inhambane\n",
      "8781 St. George's\n",
      "....what was i thinking belomorsk\n",
      "....what was i thinking verkhnevilyuysk\n",
      "9470 Singapore\n",
      "....what was i thinking ginda\n",
      "900 Beaverlodge\n",
      "....what was i thinking tir pol\n",
      "2030260 Viedma\n",
      "....what was i thinking atambua\n",
      "....what was i thinking pontes e lacerda\n",
      "719 Bonavista\n",
      "8938 Orsha\n",
      "....what was i thinking alta floresta\n",
      "6643 Mouzourás\n",
      "....what was i thinking kadykchan\n",
      "2000217 Kaitangata\n",
      "....what was i thinking inderborskiy\n",
      "....what was i thinking tidore\n",
      "....what was i thinking tomatlan\n",
      "....what was i thinking tuggurt\n",
      "2007810 Lowestoft\n",
      "....what was i thinking bolgatanga\n",
      "2005401 Murray Bridge\n",
      "2010865 Palmer\n",
      "1633 Mehamn\n",
      "....what was i thinking armacao dos buzios\n",
      "....what was i thinking sao sepe\n",
      "309 Port-Cartier\n",
      "7941 Yuanli\n",
      "....what was i thinking vylgort\n",
      "....what was i thinking maragogi\n",
      "3444 Golden\n",
      "....what was i thinking saleaula\n",
      "....what was i thinking sarangani\n",
      "2131 Koungou\n",
      "9499 Yeppoon\n",
      "....what was i thinking vestmannaeyjar\n",
      "7741 Ketchikan\n",
      "165 Ilulissat\n",
      "891 The Pas\n",
      "9701 Kavaratti\n",
      "....what was i thinking durango\n",
      "1996 Mthatha\n",
      "8682 Lima\n",
      "....what was i thinking humaita\n",
      "6401 Calatayud\n",
      "....what was i thinking ambovombe\n",
      "....what was i thinking trelew\n",
      "2008959 Tuatapere\n",
      "8846 Aykhal\n",
      "....what was i thinking bireun\n",
      "3328 Astoria\n",
      "7311 Luganville\n",
      "....what was i thinking atmakur\n",
      "....what was i thinking mirabad\n",
      "8854 Mayya\n",
      "8514 Coquimbo\n",
      "2007742 Eureka\n",
      "812 Havre-St-Pierre\n",
      "....what was i thinking tinogboc\n",
      "....what was i thinking oxapampa\n",
      "....what was i thinking muravlenko\n",
      "....what was i thinking taoudenni\n",
      "3729 Hamilton\n",
      "....what was i thinking kovdor\n",
      "8340 Boa Vista\n",
      "....what was i thinking tumbes\n",
      "7396 Faya\n",
      "....what was i thinking gigmoto\n",
      "....what was i thinking tiznit\n",
      "9361 Ambon City\n",
      "....what was i thinking teacapan\n",
      "232553 Nynäshamn\n",
      "6418 Aras\n",
      "7488 Bojnourd\n",
      "2012094 Healesville\n",
      "....what was i thinking jujuy\n",
      "75281 Dunedin\n",
      "9315 Pyn U Lwin\n",
      "8047 Kamaishi\n",
      "....what was i thinking balabac\n",
      "4038 Lumberton\n",
      "....what was i thinking kavieng\n",
      "1990 Upington\n",
      "62766 Ningyang\n",
      "....what was i thinking weligama\n",
      "....what was i thinking axim\n",
      "2444 Nouadhibou\n",
      "....what was i thinking rudbar\n",
      "3710 Creston\n",
      "....what was i thinking mattru\n",
      "9563 Narrabri\n",
      "....what was i thinking nanortalik\n",
      "....what was i thinking kaniama\n",
      "2008290 Paracuru\n",
      "....what was i thinking maraa\n",
      "6728 Siniscola\n",
      "....what was i thinking nabire\n",
      "8137 Gushikawa\n",
      "8491 Coyhaique\n",
      "....what was i thinking kudahuvadhoo\n",
      "....what was i thinking bargal\n",
      "....what was i thinking novoseleznevo\n",
      "....what was i thinking umm kaddadah\n",
      "8360 São João Batista\n",
      "....what was i thinking zhigansk\n",
      "....what was i thinking safranbolu\n",
      "....what was i thinking mitsamiouli\n",
      "....what was i thinking hobyo\n",
      "....what was i thinking mathathane\n",
      "....what was i thinking meyungs\n",
      "2012467 Rehau\n",
      "....what was i thinking manggar\n",
      "....what was i thinking ostrovnoy\n",
      "....what was i thinking litovko\n",
      "9376 Semporna\n",
      "....what was i thinking geilo\n",
      "9360 Kualakapuas\n",
      "....what was i thinking pangnirtung\n",
      "....what was i thinking kyren\n",
      "....what was i thinking bac lieu\n",
      "....what was i thinking walvis bay\n",
      "....what was i thinking vostok\n",
      "....what was i thinking kungurtug\n",
      "....what was i thinking wagar\n",
      "9698 Bryant\n",
      "....what was i thinking tsabong\n",
      "8391 Santa Rita\n",
      "9325 Galesong\n",
      "....what was i thinking muli\n",
      "5073 Azle\n",
      "....what was i thinking muddebihal\n",
      "....what was i thinking wulanhaote\n",
      "....what was i thinking codrington\n",
      "....what was i thinking mankono\n",
      "5390 Poplar Bluff\n",
      "2380 Nador\n",
      "8422 Belmonte\n",
      "8887 Petropavlovsk-Kamchatskiy\n",
      "....what was i thinking skalistyy\n",
      "8248 San Miguel de Tucumán\n",
      "....what was i thinking coahuayana\n",
      "2208 Quelimane\n",
      "....what was i thinking deputatskiy\n",
      "....what was i thinking caravelas\n",
      "....what was i thinking yian\n",
      "....what was i thinking biltine\n",
      "....what was i thinking kpandu\n",
      "....what was i thinking trincomalee\n",
      "....what was i thinking manga\n",
      "9027 Istra\n",
      "....what was i thinking bunia\n",
      "....what was i thinking derzhavinsk\n",
      "....what was i thinking westpunt\n",
      "2002134 Cap Malheureux\n",
      "2006895 Portree\n",
      "7827 Wasilla\n",
      "2000018 Muros\n",
      "....what was i thinking hualmay\n",
      "....what was i thinking anar darreh\n",
      "3406 Boulder\n",
      "1352 Kuusamo\n",
      "6900 Barcelos\n",
      "....what was i thinking malinovskiy\n",
      "8293 Río Gallegos\n",
      "3409 Westport\n",
      "....what was i thinking rurrenabaque\n",
      "2034318 Narón\n",
      "....what was i thinking birao\n",
      "....what was i thinking kysyl-syr\n",
      "....what was i thinking abu kamal\n",
      "....what was i thinking wajir\n",
      "285\n"
     ]
    }
   ],
   "source": [
    "url = \"http://api.openweathermap.org/data/2.5/weather?q=\"\n",
    "appid = \"&APPID=d269652a1671495578edb029c7fc4b2e\"\n",
    "\n",
    "name = []\n",
    "lat = []\n",
    "lon = []\n",
    "max_temp = []\n",
    "humidity = []\n",
    "cloud_coverage = []\n",
    "wind_speed = []\n",
    "city_country = []\n",
    "city_dt = []\n",
    "not_found = []\n",
    "\n",
    "for x in range(len(cities)):\n",
    "\n",
    "    response = requests.get(url + cities[x] + appid)\n",
    "#    response_json.append(response.json())\n",
    "    try:\n",
    "        response_json = response.json()\n",
    "        \n",
    "        print(response_json[\"sys\"][\"id\"], response_json[\"name\"])\n",
    "\n",
    "        name.append(response_json[\"name\"])\n",
    "        lat.append(response_json[\"coord\"][\"lat\"])\n",
    "        lon.append(response_json[\"coord\"][\"lon\"])\n",
    "        max_temp.append(response_json[\"main\"][\"temp_max\"])\n",
    "        humidity.append(response_json[\"main\"][\"humidity\"])\n",
    "        cloud_coverage.append(response_json[\"clouds\"][\"all\"])\n",
    "        wind_speed.append(response_json[\"wind\"][\"speed\"])\n",
    "        city_country.append(response_json[\"sys\"][\"country\"])\n",
    "        city_dt.append(response_json[\"dt\"])\n",
    "    except KeyError:\n",
    "        not_found.append(cities[x])\n",
    "        print(\"....what was i thinking\", cities[x])\n",
    "\n",
    "# Get one of the posts\n",
    "#    post_response = requests.get(url + str(cities[x]) + appid)\n",
    "#    print(post_response[name], post_response[lat])\n",
    "# this works    print(response_json[\"id\"], response_json[\"name\"])\n",
    "#    print(response_json[\"sys\"][\"id\"], response_json[\"name\"])\n",
    "#    print(response_json[\"name\"]\n",
    "#          , response_json[\"coord\"][\"lat\"]\n",
    "#          , response_json[\"coord\"][\"lon\"]\n",
    "#          , response_json[\"main\"][\"temp_max\"]\n",
    "#          , response_json[\"main\"][\"humidity\"]\n",
    "#          , response_json[\"clouds\"][\"all\"]\n",
    "#          , response_json[\"wind\"][\"speed\"]\n",
    "#          , response_json[\"sys\"][\"country\"]\n",
    "#          , response_json[\"dt\"]\n",
    "#         )\n",
    "    # Save post's JSON\n",
    "#    response_json.append(post_response.json())\n",
    "print(len(name))\n",
    "#print(not_found)"
   ]
  },
  {
   "cell_type": "markdown",
   "metadata": {},
   "source": [
    "### Convert Raw Data to DataFrame\n",
    "* Export the city data into a .csv.\n",
    "* Display the DataFrame"
   ]
  },
  {
   "cell_type": "code",
   "execution_count": 4,
   "metadata": {},
   "outputs": [
    {
     "name": "stdout",
     "output_type": "stream",
     "text": [
      "               city  latitude  longitude  max_Temp  humidity  cloud_coverage  \\\n",
      "0         Busselton    -33.65     115.33    308.15         9              31   \n",
      "1         Mount Isa    -20.73     139.50    310.15         7             100   \n",
      "2       George Town      5.41     100.34    304.15        70              20   \n",
      "3       Santa Comba     43.03      -8.81    288.15        88             100   \n",
      "4    Port Elizabeth    -33.92      25.57    291.15        93              90   \n",
      "..              ...       ...        ...       ...       ...             ...   \n",
      "280         Kuusamo     65.97      29.18    269.15        92              90   \n",
      "281        Barcelos     41.54      -8.62    287.15       100              75   \n",
      "282    Río Gallegos    -51.62     -69.22    285.15        62              75   \n",
      "283        Westport     41.14     -73.36    276.15        74              90   \n",
      "284           Narón     43.52      -8.15    287.59        93             100   \n",
      "\n",
      "     wind_speed city_country     city_dt  \n",
      "0          4.92           AU  1607576214  \n",
      "1          4.10           AU  1607576214  \n",
      "2          2.10           MY  1607576041  \n",
      "3          1.79           ES  1607576214  \n",
      "4          3.10           ZA  1607576215  \n",
      "..          ...          ...         ...  \n",
      "280        4.60           FI  1607576339  \n",
      "281        5.70           PT  1607576339  \n",
      "282        5.10           AR  1607576339  \n",
      "283        4.60           US  1607576230  \n",
      "284        8.94           ES  1607576340  \n",
      "\n",
      "[285 rows x 9 columns]\n"
     ]
    }
   ],
   "source": [
    "weather_dict = {\n",
    "    \"city\": name,\n",
    "    \"latitude\": lat,\n",
    "    \"longitude\": lon,\n",
    "    \"max_Temp\": max_temp,\n",
    "    \"humidity\": humidity,\n",
    "    \"cloud_coverage\": cloud_coverage,\n",
    "    \"wind_speed\": wind_speed,\n",
    "    \"city_country\": city_country,\n",
    "    \"city_dt\": city_dt\n",
    "}\n",
    "\n",
    "weather_data = pd.DataFrame(weather_dict)\n",
    "weather_data\n",
    "\n",
    "weather_data.to_csv(\"weather_data.csv\", index=False, header=True)\n",
    "\n",
    "#print(len(weather_dict))\n",
    "\n",
    "#print(weather_dict)\n",
    "print(weather_data)"
   ]
  },
  {
   "cell_type": "code",
   "execution_count": null,
   "metadata": {},
   "outputs": [],
   "source": []
  },
  {
   "cell_type": "markdown",
   "metadata": {},
   "source": [
    "## Inspect the data and remove the cities where the humidity > 100%.\n",
    "----\n",
    "Skip this step if there are no cities that have humidity > 100%. "
   ]
  },
  {
   "cell_type": "code",
   "execution_count": null,
   "metadata": {},
   "outputs": [],
   "source": []
  },
  {
   "cell_type": "code",
   "execution_count": 5,
   "metadata": {},
   "outputs": [],
   "source": [
    "#  Get the indices of cities that have humidity over 100%.\n"
   ]
  },
  {
   "cell_type": "code",
   "execution_count": 6,
   "metadata": {},
   "outputs": [],
   "source": [
    "# Make a new DataFrame equal to the city data to drop all humidity outliers by index.\n",
    "# Passing \"inplace=False\" will make a copy of the city_data DataFrame, which we call \"clean_city_data\".\n"
   ]
  },
  {
   "cell_type": "code",
   "execution_count": null,
   "metadata": {},
   "outputs": [],
   "source": [
    "\n"
   ]
  },
  {
   "cell_type": "markdown",
   "metadata": {},
   "source": [
    "## Plotting the Data\n",
    "* Use proper labeling of the plots using plot titles (including date of analysis) and axes labels.\n",
    "* Save the plotted figures as .pngs."
   ]
  },
  {
   "cell_type": "markdown",
   "metadata": {},
   "source": [
    "## Latitude vs. Temperature Plot"
   ]
  },
  {
   "cell_type": "code",
   "execution_count": 7,
   "metadata": {
    "scrolled": true
   },
   "outputs": [
    {
     "data": {
      "image/png": "[encoded data removed]",
      "text/plain": [
       "<Figure size 432x288 with 1 Axes>"
      ]
     },
     "metadata": {
      "needs_background": "light"
     },
     "output_type": "display_data"
    }
   ],
   "source": [
    "plt.scatter(weather_data[\"latitude\"], weather_data[\"max_Temp\"])\n",
    "plt.title(\"Latitude vs max temp\")\n",
    "plt.xlabel(\"Temperature\")\n",
    "plt.ylabel(\"Latitude\")\n",
    "plt.grid(True)\n",
    "plt.savefig(\"Latitude_vs_max_temp.png\")"
   ]
  },
  {
   "cell_type": "markdown",
   "metadata": {},
   "source": [
    "## Latitude vs. Humidity Plot"
   ]
  },
  {
   "cell_type": "code",
   "execution_count": 8,
   "metadata": {},
   "outputs": [
    {
     "data": {
      "image/png": "[encoded data removed]",
      "text/plain": [
       "<Figure size 432x288 with 1 Axes>"
      ]
     },
     "metadata": {
      "needs_background": "light"
     },
     "output_type": "display_data"
    }
   ],
   "source": [
    "plt.scatter(weather_data[\"latitude\"], weather_data[\"humidity\"])\n",
    "plt.title(\"Latitude vs Humidity\")\n",
    "plt.xlabel(\"Humidity\")\n",
    "plt.ylabel(\"Latitude\")\n",
    "plt.grid(True)\n",
    "plt.savefig(\"Latitude_vs_Humidity.png\")"
   ]
  },
  {
   "cell_type": "markdown",
   "metadata": {},
   "source": [
    "## Latitude vs. Cloudiness Plot"
   ]
  },
  {
   "cell_type": "code",
   "execution_count": 9,
   "metadata": {},
   "outputs": [
    {
     "data": {
      "image/png": "[encoded data removed]",
      "text/plain": [
       "<Figure size 432x288 with 1 Axes>"
      ]
     },
     "metadata": {
      "needs_background": "light"
     },
     "output_type": "display_data"
    }
   ],
   "source": [
    "plt.scatter(weather_data[\"latitude\"], weather_data[\"cloud_coverage\"])\n",
    "plt.title(\"Latitude vs Cloudiness\")\n",
    "plt.xlabel(\"Cloudiness\")\n",
    "plt.ylabel(\"Latitude\")\n",
    "plt.grid(True)\n",
    "plt.savefig(\"Latitude_vs_Cloudiness.png\")"
   ]
  },
  {
   "cell_type": "markdown",
   "metadata": {},
   "source": [
    "## Latitude vs. Wind Speed Plot"
   ]
  },
  {
   "cell_type": "code",
   "execution_count": 10,
   "metadata": {},
   "outputs": [
    {
     "data": {
      "image/png": "[encoded data removed]",
      "text/plain": [
       "<Figure size 432x288 with 1 Axes>"
      ]
     },
     "metadata": {
      "needs_background": "light"
     },
     "output_type": "display_data"
    }
   ],
   "source": [
    "plt.scatter(weather_data[\"latitude\"], weather_data[\"wind_speed\"])\n",
    "plt.title(\"Latitude vs Wind Speed\")\n",
    "plt.xlabel(\"Wind Speed\")\n",
    "plt.ylabel(\"Latitude\")\n",
    "plt.grid(True)\n",
    "plt.savefig(\"Latitude_vs_Wind_Speed.png\")"
   ]
  },
  {
   "cell_type": "markdown",
   "metadata": {},
   "source": [
    "## Linear Regression"
   ]
  },
  {
   "cell_type": "code",
   "execution_count": null,
   "metadata": {},
   "outputs": [],
   "source": []
  },
  {
   "cell_type": "markdown",
   "metadata": {},
   "source": [
    "####  Northern Hemisphere - Max Temp vs. Latitude Linear Regression"
   ]
  },
  {
   "cell_type": "code",
   "execution_count": 11,
   "metadata": {},
   "outputs": [
    {
     "data": {
      "image/png": "[encoded data removed]",
      "text/plain": [
       "<Figure size 432x288 with 1 Axes>"
      ]
     },
     "metadata": {
      "needs_background": "light"
     },
     "output_type": "display_data"
    }
   ],
   "source": [
    "northern_hemi = weather_data.loc[(weather_data['latitude']>0)]\n",
    "#print(northern_hemi)\n",
    "\n",
    "southern_hemi = weather_data.loc[(weather_data['latitude']<0)]\n",
    "#print(southern_hemi)\n",
    "\n",
    "x_values = northern_hemi['max_Temp']\n",
    "y_values = northern_hemi['latitude']\n",
    "\n",
    "(slope, intercept, rvalue, pvalue, stderr) = linregress(x_values, y_values)\n",
    "regress_values = x_values * slope + intercept\n",
    "line_eq = \"y = \" + str(round(slope,2)) + \"x + \" + str(round(intercept,2))\n",
    "plt.scatter(x_values,y_values)\n",
    "plt.plot(x_values,regress_values,\"r-\")\n",
    "plt.annotate(line_eq,(6,10),fontsize=15,color=\"red\")\n",
    "plt.xlabel('Max Temp')\n",
    "plt.ylabel('Latitude')\n",
    "plt.show()"
   ]
  },
  {
   "cell_type": "markdown",
   "metadata": {},
   "source": [
    "####  Southern Hemisphere - Max Temp vs. Latitude Linear Regression"
   ]
  },
  {
   "cell_type": "code",
   "execution_count": 12,
   "metadata": {},
   "outputs": [
    {
     "data": {
      "image/png": "[encoded data removed]",
      "text/plain": [
       "<Figure size 432x288 with 1 Axes>"
      ]
     },
     "metadata": {
      "needs_background": "light"
     },
     "output_type": "display_data"
    }
   ],
   "source": [
    "northern_hemi = weather_data.loc[(weather_data['latitude']>0)]\n",
    "#print(northern_hemi)\n",
    "\n",
    "southern_hemi = weather_data.loc[(weather_data['latitude']<0)]\n",
    "#print(southern_hemi)\n",
    "\n",
    "x_values = southern_hemi['max_Temp']\n",
    "y_values = southern_hemi['latitude']\n",
    "\n",
    "(slope, intercept, rvalue, pvalue, stderr) = linregress(x_values, y_values)\n",
    "regress_values = x_values * slope + intercept\n",
    "line_eq = \"y = \" + str(round(slope,2)) + \"x + \" + str(round(intercept,2))\n",
    "plt.scatter(x_values,y_values)\n",
    "plt.plot(x_values,regress_values,\"r-\")\n",
    "plt.annotate(line_eq,(6,10),fontsize=15,color=\"red\")\n",
    "plt.xlabel('Max Temp')\n",
    "plt.ylabel('Latitude')\n",
    "plt.show()"
   ]
  },
  {
   "cell_type": "markdown",
   "metadata": {},
   "source": [
    "####  Northern Hemisphere - Humidity (%) vs. Latitude Linear Regression"
   ]
  },
  {
   "cell_type": "code",
   "execution_count": 13,
   "metadata": {},
   "outputs": [
    {
     "data": {
      "image/png": "[encoded data removed]",
      "text/plain": [
       "<Figure size 432x288 with 1 Axes>"
      ]
     },
     "metadata": {
      "needs_background": "light"
     },
     "output_type": "display_data"
    }
   ],
   "source": [
    "northern_hemi = weather_data.loc[(weather_data['latitude']>0)]\n",
    "#print(northern_hemi)\n",
    "\n",
    "southern_hemi = weather_data.loc[(weather_data['latitude']<0)]\n",
    "#print(southern_hemi)\n",
    "\n",
    "x_values = northern_hemi['humidity']\n",
    "y_values = northern_hemi['latitude']\n",
    "\n",
    "(slope, intercept, rvalue, pvalue, stderr) = linregress(x_values, y_values)\n",
    "regress_values = x_values * slope + intercept\n",
    "line_eq = \"y = \" + str(round(slope,2)) + \"x + \" + str(round(intercept,2))\n",
    "plt.scatter(x_values,y_values)\n",
    "plt.plot(x_values,regress_values,\"r-\")\n",
    "plt.annotate(line_eq,(6,10),fontsize=15,color=\"red\")\n",
    "plt.xlabel('Humidity')\n",
    "plt.ylabel('Latitude')\n",
    "plt.show()"
   ]
  },
  {
   "cell_type": "markdown",
   "metadata": {},
   "source": [
    "####  Southern Hemisphere - Humidity (%) vs. Latitude Linear Regression"
   ]
  },
  {
   "cell_type": "code",
   "execution_count": 14,
   "metadata": {},
   "outputs": [
    {
     "data": {
      "image/png": "[encoded data removed]",
      "text/plain": [
       "<Figure size 432x288 with 1 Axes>"
      ]
     },
     "metadata": {
      "needs_background": "light"
     },
     "output_type": "display_data"
    }
   ],
   "source": [
    "northern_hemi = weather_data.loc[(weather_data['latitude']>0)]\n",
    "#print(northern_hemi)\n",
    "\n",
    "southern_hemi = weather_data.loc[(weather_data['latitude']<0)]\n",
    "#print(southern_hemi)\n",
    "\n",
    "x_values = southern_hemi['humidity']\n",
    "y_values = southern_hemi['latitude']\n",
    "\n",
    "(slope, intercept, rvalue, pvalue, stderr) = linregress(x_values, y_values)\n",
    "regress_values = x_values * slope + intercept\n",
    "line_eq = \"y = \" + str(round(slope,2)) + \"x + \" + str(round(intercept,2))\n",
    "plt.scatter(x_values,y_values)\n",
    "plt.plot(x_values,regress_values,\"r-\")\n",
    "plt.annotate(line_eq,(6,10),fontsize=15,color=\"red\")\n",
    "plt.xlabel('Humidity')\n",
    "plt.ylabel('Latitude')\n",
    "plt.show()"
   ]
  },
  {
   "cell_type": "markdown",
   "metadata": {},
   "source": [
    "####  Northern Hemisphere - Cloudiness (%) vs. Latitude Linear Regression"
   ]
  },
  {
   "cell_type": "code",
   "execution_count": 15,
   "metadata": {},
   "outputs": [
    {
     "data": {
      "image/png": "[encoded data removed]",
      "text/plain": [
       "<Figure size 432x288 with 1 Axes>"
      ]
     },
     "metadata": {
      "needs_background": "light"
     },
     "output_type": "display_data"
    }
   ],
   "source": [
    "northern_hemi = weather_data.loc[(weather_data['latitude']>0)]\n",
    "#print(northern_hemi)\n",
    "\n",
    "southern_hemi = weather_data.loc[(weather_data['latitude']<0)]\n",
    "#print(southern_hemi)\n",
    "\n",
    "x_values = northern_hemi['cloud_coverage']\n",
    "y_values = northern_hemi['latitude']\n",
    "\n",
    "(slope, intercept, rvalue, pvalue, stderr) = linregress(x_values, y_values)\n",
    "regress_values = x_values * slope + intercept\n",
    "line_eq = \"y = \" + str(round(slope,2)) + \"x + \" + str(round(intercept,2))\n",
    "plt.scatter(x_values,y_values)\n",
    "plt.plot(x_values,regress_values,\"r-\")\n",
    "plt.annotate(line_eq,(6,10),fontsize=15,color=\"red\")\n",
    "plt.xlabel('Max Temp')\n",
    "plt.ylabel('Latitude')\n",
    "plt.show()"
   ]
  },
  {
   "cell_type": "markdown",
   "metadata": {},
   "source": [
    "####  Southern Hemisphere - Cloudiness (%) vs. Latitude Linear Regression"
   ]
  },
  {
   "cell_type": "code",
   "execution_count": 16,
   "metadata": {},
   "outputs": [
    {
     "data": {
      "image/png": "[encoded data removed]",
      "text/plain": [
       "<Figure size 432x288 with 1 Axes>"
      ]
     },
     "metadata": {
      "needs_background": "light"
     },
     "output_type": "display_data"
    }
   ],
   "source": [
    "northern_hemi = weather_data.loc[(weather_data['latitude']>0)]\n",
    "#print(northern_hemi)\n",
    "\n",
    "southern_hemi = weather_data.loc[(weather_data['latitude']<0)]\n",
    "#print(southern_hemi)\n",
    "\n",
    "x_values = southern_hemi['cloud_coverage']\n",
    "y_values = southern_hemi['latitude']\n",
    "(slope, intercept, rvalue, pvalue, stderr) = linregress(x_values, y_values)\n",
    "regress_values = x_values * slope + intercept\n",
    "line_eq = \"y = \" + str(round(slope,2)) + \"x + \" + str(round(intercept,2))\n",
    "plt.scatter(x_values,y_values)\n",
    "plt.plot(x_values,regress_values,\"r-\")\n",
    "plt.annotate(line_eq,(6,10),fontsize=15,color=\"red\")\n",
    "plt.xlabel('Max Temp')\n",
    "plt.ylabel('Latitude')\n",
    "plt.show()"
   ]
  },
  {
   "cell_type": "markdown",
   "metadata": {},
   "source": [
    "####  Northern Hemisphere - Wind Speed (mph) vs. Latitude Linear Regression"
   ]
  },
  {
   "cell_type": "code",
   "execution_count": 17,
   "metadata": {},
   "outputs": [
    {
     "data": {
      "image/png": "[encoded data removed]",
      "text/plain": [
       "<Figure size 432x288 with 1 Axes>"
      ]
     },
     "metadata": {
      "needs_background": "light"
     },
     "output_type": "display_data"
    }
   ],
   "source": [
    "northern_hemi = weather_data.loc[(weather_data['latitude']>0)]\n",
    "#print(northern_hemi)\n",
    "\n",
    "southern_hemi = weather_data.loc[(weather_data['latitude']<0)]\n",
    "#print(southern_hemi)\n",
    "\n",
    "x_values = northern_hemi['wind_speed']\n",
    "y_values = northern_hemi['latitude']\n",
    "\n",
    "(slope, intercept, rvalue, pvalue, stderr) = linregress(x_values, y_values)\n",
    "regress_values = x_values * slope + intercept\n",
    "line_eq = \"y = \" + str(round(slope,2)) + \"x + \" + str(round(intercept,2))\n",
    "plt.scatter(x_values,y_values)\n",
    "plt.plot(x_values,regress_values,\"r-\")\n",
    "plt.annotate(line_eq,(6,10),fontsize=15,color=\"red\")\n",
    "plt.xlabel('Wind Speed')\n",
    "plt.ylabel('Latitude')\n",
    "plt.show()"
   ]
  },
  {
   "cell_type": "markdown",
   "metadata": {},
   "source": [
    "####  Southern Hemisphere - Wind Speed (mph) vs. Latitude Linear Regression"
   ]
  },
  {
   "cell_type": "code",
   "execution_count": 18,
   "metadata": {},
   "outputs": [
    {
     "data": {
      "image/png": "[encoded data removed]",
      "text/plain": [
       "<Figure size 432x288 with 1 Axes>"
      ]
     },
     "metadata": {
      "needs_background": "light"
     },
     "output_type": "display_data"
    }
   ],
   "source": [
    "northern_hemi = weather_data.loc[(weather_data['latitude']>0)]\n",
    "#print(northern_hemi)\n",
    "\n",
    "southern_hemi = weather_data.loc[(weather_data['latitude']<0)]\n",
    "#print(southern_hemi)\n",
    "\n",
    "x_values = southern_hemi['wind_speed']\n",
    "y_values = southern_hemi['latitude']\n",
    "\n",
    "(slope, intercept, rvalue, pvalue, stderr) = linregress(x_values, y_values)\n",
    "regress_values = x_values * slope + intercept\n",
    "line_eq = \"y = \" + str(round(slope,2)) + \"x + \" + str(round(intercept,2))\n",
    "plt.scatter(x_values,y_values)\n",
    "plt.plot(x_values,regress_values,\"r-\")\n",
    "plt.annotate(line_eq,(6,10),fontsize=15,color=\"red\")\n",
    "plt.xlabel('Wind Speed')\n",
    "plt.ylabel('Latitude')\n",
    "plt.show()"
   ]
  },
  {
   "cell_type": "code",
   "execution_count": null,
   "metadata": {},
   "outputs": [],
   "source": []
  }
 ],
 "metadata": {
  "anaconda-cloud": {},
  "kernel_info": {
   "name": "python3"
  },
  "kernelspec": {
   "display_name": "Python 3",
   "language": "python",
   "name": "python3"
  },
  "language_info": {
   "codemirror_mode": {
    "name": "ipython",
    "version": 3
   },
   "file_extension": ".py",
   "mimetype": "text/x-python",
   "name": "python",
   "nbconvert_exporter": "python",
   "pygments_lexer": "ipython3",
   "version": "3.8.3"
  },
  "latex_envs": {
   "LaTeX_envs_menu_present": true,
   "autoclose": false,
   "autocomplete": true,
   "bibliofile": "biblio.bib",
   "cite_by": "apalike",
   "current_citInitial": 1,
   "eqLabelWithNumbers": true,
   "eqNumInitial": 1,
   "hotkeys": {
    "equation": "Ctrl-E",
    "itemize": "Ctrl-I"
   },
   "labels_anchors": false,
   "latex_user_defs": false,
   "report_style_numbering": false,
   "user_envs_cfg": false
  },
  "nteract": {
   "version": "0.12.3"
  }
 },
 "nbformat": 4,
 "nbformat_minor": 2
}
